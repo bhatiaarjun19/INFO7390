{
  "cells": [
    {
      "cell_type": "markdown",
      "id": "69b125e3",
      "metadata": {
        "id": "69b125e3"
      },
      "source": [
        "## Assignment 2\n"
      ]
    },
    {
      "cell_type": "markdown",
      "id": "f0a5490e",
      "metadata": {
        "id": "f0a5490e"
      },
      "source": [
        "### 1. Requirements\n",
        "\n",
        "1. Implement a single neuron neural network, aka, the logistic regression unit. \n",
        "2. Use Log Loss Function, write code to carry out stochastic gradient descent for optimization, and then write a different activation function i.e., replace the sigmoid compression by ReLu or tan.Ideally, implement as a set of functions*.\n",
        "3. Run it on any classification problem using a dataset from the internet (say the titanic dataset).\n",
        "4. Provide accuracy and F1 score of the results. \n",
        "5. Please write code in Python in a Jupyter notebook."
      ]
    },
    {
      "cell_type": "markdown",
      "id": "057f5770",
      "metadata": {
        "id": "057f5770"
      },
      "source": [
        "#### 2. Imports"
      ]
    },
    {
      "cell_type": "code",
      "execution_count": 3,
      "id": "spoken-hybrid",
      "metadata": {
        "id": "spoken-hybrid"
      },
      "outputs": [],
      "source": [
        "import pandas as pd\n",
        "import numpy as np\n",
        "import matplotlib.pyplot as plt\n",
        "import scipy\n",
        "import seaborn as sns"
      ]
    },
    {
      "cell_type": "markdown",
      "id": "a8cbfcbe",
      "metadata": {
        "id": "a8cbfcbe"
      },
      "source": [
        "#### 3. Data Ingestion\n",
        "\n",
        "Dataset used on this project is originally from the National Institute of Diabetes and Digestive and Kidney Diseases. The objective is to predict based on diagnostic measurements whether a patient has diabetes.\n",
        "https://www.kaggle.com/datasets/mathchi/diabetes-data-set "
      ]
    },
    {
      "cell_type": "code",
      "execution_count": 4,
      "id": "dangerous-remedy",
      "metadata": {
        "id": "dangerous-remedy"
      },
      "outputs": [],
      "source": [
        "#Import dataset\n",
        "data= pd.read_csv(\"/content/diabetes.csv\")"
      ]
    },
    {
      "cell_type": "code",
      "execution_count": 5,
      "id": "shared-harvest",
      "metadata": {
        "colab": {
          "base_uri": "https://localhost:8080/",
          "height": 206
        },
        "id": "shared-harvest",
        "outputId": "112744aa-09dc-485b-e005-d62234b6b950"
      },
      "outputs": [
        {
          "output_type": "execute_result",
          "data": {
            "text/plain": [
              "   Pregnancies  Glucose  BloodPressure  SkinThickness  Insulin   BMI  \\\n",
              "0            6      148             72             35        0  33.6   \n",
              "1            1       85             66             29        0  26.6   \n",
              "2            8      183             64              0        0  23.3   \n",
              "3            1       89             66             23       94  28.1   \n",
              "4            0      137             40             35      168  43.1   \n",
              "\n",
              "   DiabetesPedigreeFunction  Age  Outcome  \n",
              "0                     0.627   50        1  \n",
              "1                     0.351   31        0  \n",
              "2                     0.672   32        1  \n",
              "3                     0.167   21        0  \n",
              "4                     2.288   33        1  "
            ],
            "text/html": [
              "\n",
              "  <div id=\"df-57ec2810-860d-4214-a7da-fced3d4da094\">\n",
              "    <div class=\"colab-df-container\">\n",
              "      <div>\n",
              "<style scoped>\n",
              "    .dataframe tbody tr th:only-of-type {\n",
              "        vertical-align: middle;\n",
              "    }\n",
              "\n",
              "    .dataframe tbody tr th {\n",
              "        vertical-align: top;\n",
              "    }\n",
              "\n",
              "    .dataframe thead th {\n",
              "        text-align: right;\n",
              "    }\n",
              "</style>\n",
              "<table border=\"1\" class=\"dataframe\">\n",
              "  <thead>\n",
              "    <tr style=\"text-align: right;\">\n",
              "      <th></th>\n",
              "      <th>Pregnancies</th>\n",
              "      <th>Glucose</th>\n",
              "      <th>BloodPressure</th>\n",
              "      <th>SkinThickness</th>\n",
              "      <th>Insulin</th>\n",
              "      <th>BMI</th>\n",
              "      <th>DiabetesPedigreeFunction</th>\n",
              "      <th>Age</th>\n",
              "      <th>Outcome</th>\n",
              "    </tr>\n",
              "  </thead>\n",
              "  <tbody>\n",
              "    <tr>\n",
              "      <th>0</th>\n",
              "      <td>6</td>\n",
              "      <td>148</td>\n",
              "      <td>72</td>\n",
              "      <td>35</td>\n",
              "      <td>0</td>\n",
              "      <td>33.6</td>\n",
              "      <td>0.627</td>\n",
              "      <td>50</td>\n",
              "      <td>1</td>\n",
              "    </tr>\n",
              "    <tr>\n",
              "      <th>1</th>\n",
              "      <td>1</td>\n",
              "      <td>85</td>\n",
              "      <td>66</td>\n",
              "      <td>29</td>\n",
              "      <td>0</td>\n",
              "      <td>26.6</td>\n",
              "      <td>0.351</td>\n",
              "      <td>31</td>\n",
              "      <td>0</td>\n",
              "    </tr>\n",
              "    <tr>\n",
              "      <th>2</th>\n",
              "      <td>8</td>\n",
              "      <td>183</td>\n",
              "      <td>64</td>\n",
              "      <td>0</td>\n",
              "      <td>0</td>\n",
              "      <td>23.3</td>\n",
              "      <td>0.672</td>\n",
              "      <td>32</td>\n",
              "      <td>1</td>\n",
              "    </tr>\n",
              "    <tr>\n",
              "      <th>3</th>\n",
              "      <td>1</td>\n",
              "      <td>89</td>\n",
              "      <td>66</td>\n",
              "      <td>23</td>\n",
              "      <td>94</td>\n",
              "      <td>28.1</td>\n",
              "      <td>0.167</td>\n",
              "      <td>21</td>\n",
              "      <td>0</td>\n",
              "    </tr>\n",
              "    <tr>\n",
              "      <th>4</th>\n",
              "      <td>0</td>\n",
              "      <td>137</td>\n",
              "      <td>40</td>\n",
              "      <td>35</td>\n",
              "      <td>168</td>\n",
              "      <td>43.1</td>\n",
              "      <td>2.288</td>\n",
              "      <td>33</td>\n",
              "      <td>1</td>\n",
              "    </tr>\n",
              "  </tbody>\n",
              "</table>\n",
              "</div>\n",
              "      <button class=\"colab-df-convert\" onclick=\"convertToInteractive('df-57ec2810-860d-4214-a7da-fced3d4da094')\"\n",
              "              title=\"Convert this dataframe to an interactive table.\"\n",
              "              style=\"display:none;\">\n",
              "        \n",
              "  <svg xmlns=\"http://www.w3.org/2000/svg\" height=\"24px\"viewBox=\"0 0 24 24\"\n",
              "       width=\"24px\">\n",
              "    <path d=\"M0 0h24v24H0V0z\" fill=\"none\"/>\n",
              "    <path d=\"M18.56 5.44l.94 2.06.94-2.06 2.06-.94-2.06-.94-.94-2.06-.94 2.06-2.06.94zm-11 1L8.5 8.5l.94-2.06 2.06-.94-2.06-.94L8.5 2.5l-.94 2.06-2.06.94zm10 10l.94 2.06.94-2.06 2.06-.94-2.06-.94-.94-2.06-.94 2.06-2.06.94z\"/><path d=\"M17.41 7.96l-1.37-1.37c-.4-.4-.92-.59-1.43-.59-.52 0-1.04.2-1.43.59L10.3 9.45l-7.72 7.72c-.78.78-.78 2.05 0 2.83L4 21.41c.39.39.9.59 1.41.59.51 0 1.02-.2 1.41-.59l7.78-7.78 2.81-2.81c.8-.78.8-2.07 0-2.86zM5.41 20L4 18.59l7.72-7.72 1.47 1.35L5.41 20z\"/>\n",
              "  </svg>\n",
              "      </button>\n",
              "      \n",
              "  <style>\n",
              "    .colab-df-container {\n",
              "      display:flex;\n",
              "      flex-wrap:wrap;\n",
              "      gap: 12px;\n",
              "    }\n",
              "\n",
              "    .colab-df-convert {\n",
              "      background-color: #E8F0FE;\n",
              "      border: none;\n",
              "      border-radius: 50%;\n",
              "      cursor: pointer;\n",
              "      display: none;\n",
              "      fill: #1967D2;\n",
              "      height: 32px;\n",
              "      padding: 0 0 0 0;\n",
              "      width: 32px;\n",
              "    }\n",
              "\n",
              "    .colab-df-convert:hover {\n",
              "      background-color: #E2EBFA;\n",
              "      box-shadow: 0px 1px 2px rgba(60, 64, 67, 0.3), 0px 1px 3px 1px rgba(60, 64, 67, 0.15);\n",
              "      fill: #174EA6;\n",
              "    }\n",
              "\n",
              "    [theme=dark] .colab-df-convert {\n",
              "      background-color: #3B4455;\n",
              "      fill: #D2E3FC;\n",
              "    }\n",
              "\n",
              "    [theme=dark] .colab-df-convert:hover {\n",
              "      background-color: #434B5C;\n",
              "      box-shadow: 0px 1px 3px 1px rgba(0, 0, 0, 0.15);\n",
              "      filter: drop-shadow(0px 1px 2px rgba(0, 0, 0, 0.3));\n",
              "      fill: #FFFFFF;\n",
              "    }\n",
              "  </style>\n",
              "\n",
              "      <script>\n",
              "        const buttonEl =\n",
              "          document.querySelector('#df-57ec2810-860d-4214-a7da-fced3d4da094 button.colab-df-convert');\n",
              "        buttonEl.style.display =\n",
              "          google.colab.kernel.accessAllowed ? 'block' : 'none';\n",
              "\n",
              "        async function convertToInteractive(key) {\n",
              "          const element = document.querySelector('#df-57ec2810-860d-4214-a7da-fced3d4da094');\n",
              "          const dataTable =\n",
              "            await google.colab.kernel.invokeFunction('convertToInteractive',\n",
              "                                                     [key], {});\n",
              "          if (!dataTable) return;\n",
              "\n",
              "          const docLinkHtml = 'Like what you see? Visit the ' +\n",
              "            '<a target=\"_blank\" href=https://colab.research.google.com/notebooks/data_table.ipynb>data table notebook</a>'\n",
              "            + ' to learn more about interactive tables.';\n",
              "          element.innerHTML = '';\n",
              "          dataTable['output_type'] = 'display_data';\n",
              "          await google.colab.output.renderOutput(dataTable, element);\n",
              "          const docLink = document.createElement('div');\n",
              "          docLink.innerHTML = docLinkHtml;\n",
              "          element.appendChild(docLink);\n",
              "        }\n",
              "      </script>\n",
              "    </div>\n",
              "  </div>\n",
              "  "
            ]
          },
          "metadata": {},
          "execution_count": 5
        }
      ],
      "source": [
        "data.head(5)"
      ]
    },
    {
      "cell_type": "markdown",
      "id": "c962eea8",
      "metadata": {
        "id": "c962eea8"
      },
      "source": [
        "#### 4. Exploratory Data Analysis"
      ]
    },
    {
      "cell_type": "code",
      "execution_count": 6,
      "id": "dc2e0205",
      "metadata": {
        "colab": {
          "base_uri": "https://localhost:8080/",
          "height": 1000
        },
        "id": "dc2e0205",
        "outputId": "3e4c49b7-bccd-49bd-9bac-cd39d6ba394f"
      },
      "outputs": [
        {
          "output_type": "stream",
          "name": "stdout",
          "text": [
            "1 : Glucose\n",
            "2 : BMI\n",
            "3 : DiabetesPedigreeFunction\n"
          ]
        },
        {
          "output_type": "execute_result",
          "data": {
            "text/plain": [
              "<function matplotlib.pyplot.show(*args, **kw)>"
            ]
          },
          "metadata": {},
          "execution_count": 6
        },
        {
          "output_type": "display_data",
          "data": {
            "text/plain": [
              "<Figure size 1440x1080 with 0 Axes>"
            ]
          },
          "metadata": {}
        },
        {
          "output_type": "display_data",
          "data": {
            "text/plain": [
              "<Figure size 413.25x360 with 1 Axes>"
            ],
            "image/png": "[encoded data removed]"
          },
          "metadata": {
            "needs_background": "light"
          }
        },
        {
          "output_type": "display_data",
          "data": {
            "text/plain": [
              "<Figure size 413.25x360 with 1 Axes>"
            ],
            "image/png": "[encoded data removed]"
          },
          "metadata": {
            "needs_background": "light"
          }
        },
        {
          "output_type": "display_data",
          "data": {
            "text/plain": [
              "<Figure size 413.25x360 with 1 Axes>"
            ],
            "image/png": "[encoded data removed]"
          },
          "metadata": {
            "needs_background": "light"
          }
        }
      ],
      "source": [
        "# displot \n",
        "features_listed = ['Glucose', 'BMI', 'DiabetesPedigreeFunction']\n",
        "plt.figure(figsize = [20, 15])\n",
        "counter = 0\n",
        "for i in features_listed:\n",
        "    counter += 1\n",
        "    print(counter, ':', i)\n",
        "    sns.displot(data = data, kde=True, x = data[str(i)], hue='Outcome')\n",
        "plt.plot()\n",
        "plt.show"
      ]
    },
    {
      "cell_type": "code",
      "execution_count": 7,
      "id": "7e6bc8bc",
      "metadata": {
        "id": "7e6bc8bc"
      },
      "outputs": [],
      "source": [
        "# custom function for data vizualization\n",
        "def look_at_distr_hist(*args, df_num=None, df_cat=None, class_feature=\"Outcome\"):\n",
        "    if df_num is not None:\n",
        "        plt.figure(figsize = [20, 15])\n",
        "        counter = 0\n",
        "        for i in df_num.columns:\n",
        "            counter += 1\n",
        "            plt.subplot(3, 3, counter)\n",
        "            sns.histplot(data = data, x = data[str(i)], hue = data[class_feature], multiple  = 'dodge')\n",
        "        plt.plot()\n",
        "\n",
        "    #look at the distribution for all categ variables\n",
        "    if df_cat is not None:\n",
        "        plt.figure(figsize = [20, 15])\n",
        "        counter = 0\n",
        "        for i in df_cat.columns:\n",
        "            counter += 1\n",
        "            plt.subplot(3, 3, counter)\n",
        "            sns.histplot(data = data, x = data[str(i)], hue = data[class_feature], multiple  = 'dodge')\n",
        "    plt.plot();"
      ]
    },
    {
      "cell_type": "code",
      "execution_count": 8,
      "id": "2469281a",
      "metadata": {
        "colab": {
          "base_uri": "https://localhost:8080/",
          "height": 879
        },
        "id": "2469281a",
        "outputId": "f546db4b-ae9e-42e9-ca0e-2328cf46e124"
      },
      "outputs": [
        {
          "output_type": "display_data",
          "data": {
            "text/plain": [
              "<Figure size 1440x1080 with 9 Axes>"
            ],
            "image/png": "[encoded data removed]"
          },
          "metadata": {
            "needs_background": "light"
          }
        }
      ],
      "source": [
        "look_at_distr_hist(df_num=data, class_feature=\"Outcome\")"
      ]
    },
    {
      "cell_type": "markdown",
      "id": "dbbb09c9",
      "metadata": {
        "id": "dbbb09c9"
      },
      "source": [
        "#### 5. Data Preprocessing"
      ]
    },
    {
      "cell_type": "code",
      "execution_count": 9,
      "id": "communist-expert",
      "metadata": {
        "id": "communist-expert"
      },
      "outputs": [],
      "source": [
        "#Train, test and validation spilt\n",
        "from sklearn.model_selection import train_test_split\n",
        "\n",
        "data_set_values=np.array(data)\n",
        "number_of_rows,number_of_cols=data.shape\n",
        "train, test = train_test_split(data_set_values, test_size = 0.4,random_state=57)\n",
        "test, validate = train_test_split(test, test_size = 0.5,random_state=3)"
      ]
    },
    {
      "cell_type": "code",
      "execution_count": 10,
      "id": "metallic-poison",
      "metadata": {
        "id": "metallic-poison"
      },
      "outputs": [],
      "source": [
        "#Spilt all sets into input and output sets\n",
        "train_x=train[:,:number_of_cols-1]\n",
        "train_y=train[:,[number_of_cols-1]]\n",
        "\n",
        "test_x=test[:,:number_of_cols-1]\n",
        "test_y=test[:,[number_of_cols-1]]\n",
        "\n",
        "validate_x=validate[:,:number_of_cols-1]\n",
        "validate_y=validate[:,[number_of_cols-1]]\n",
        "\n",
        "#perform normalization on the input data set\n",
        "input_data= np.vstack((train_x,test_x,validate_x))\n",
        "mean_data = np.mean(input_data, axis=0)\n",
        "std_data = np.std(input_data, axis=0)\n",
        "train_x = (train_x - mean_data)/std_data\n",
        "test_x = (test_x - mean_data)/std_data\n",
        "validate_x = (validate_x - mean_data)/std_data"
      ]
    },
    {
      "cell_type": "markdown",
      "id": "f97c7f13",
      "metadata": {
        "id": "f97c7f13"
      },
      "source": [
        "#### 6. Functions"
      ]
    },
    {
      "cell_type": "markdown",
      "id": "e4e39a4d",
      "metadata": {
        "id": "e4e39a4d"
      },
      "source": [
        "##### 6.1 Activation Functions"
      ]
    },
    {
      "cell_type": "code",
      "execution_count": 11,
      "id": "b00db20b",
      "metadata": {
        "id": "b00db20b"
      },
      "outputs": [],
      "source": [
        "def sigmoidFunction(X): \n",
        "    return 1/(1+np.exp(-X))\n",
        "\n",
        "def tanh(x):\n",
        "    t = (np.exp(x)-np.exp(-x))/(np.exp(x)+np.exp(-x))\n",
        "    return 1-t**2\n"
      ]
    },
    {
      "cell_type": "markdown",
      "id": "acd90265",
      "metadata": {
        "id": "acd90265"
      },
      "source": [
        "##### 6.2 Log Loss or Cross Entropy"
      ]
    },
    {
      "cell_type": "code",
      "execution_count": 12,
      "id": "90e2cd29",
      "metadata": {
        "id": "90e2cd29"
      },
      "outputs": [],
      "source": [
        "def logLoss(m,Y,Z):\n",
        "    return (-1/m)*np.sum((Y*np.log(Z))+(1-Y)*np.log(1-Z))\n",
        "\n",
        "    # (-1/self.m)*np.sum((Y*np.log(Z))+(1-Y)*np.log(1-Z))"
      ]
    },
    {
      "cell_type": "markdown",
      "id": "cb7d2a5b",
      "metadata": {
        "id": "cb7d2a5b"
      },
      "source": [
        "##### 6.3 Metrics"
      ]
    },
    {
      "cell_type": "code",
      "execution_count": 13,
      "id": "c37c27b8",
      "metadata": {
        "id": "c37c27b8"
      },
      "outputs": [],
      "source": [
        "def Metrics(y_actual,y_hat):\n",
        "    TP = 0 #True Positives\n",
        "    FP = 0 # False Positives\n",
        "    TN = 0 # True Negatives\n",
        "    FN = 0 # False Negatives\n",
        "\n",
        "    for i in range(len(y_hat)): \n",
        "        if y_actual[i]==y_hat[i]==1:\n",
        "            TP += 1\n",
        "        if y_hat[i]==1 and y_actual[i]!=y_hat[i]:\n",
        "            FP += 1\n",
        "        if y_actual[i]==y_hat[i]==0:\n",
        "            TN += 1\n",
        "        if y_hat[i]==0 and y_actual[i]!=y_hat[i]:\n",
        "            FN += 1\n",
        "    #Precision Score\n",
        "    precision = TP / (FP + TP)\n",
        "    #Recall Score\n",
        "    recall = TP / (FN + TP)\n",
        "    #Accuracy\n",
        "    accuracy = ((TP + TN)/ (TP + FN + TN + FP)) * 100\n",
        "    #F1 Score\n",
        "    F1_Score = 2* precision * recall/ (precision + recall)\n",
        "    print(f'Accuracy: {round(accuracy,2)}%')\n",
        "    print(f'Precision:{round(precision,2)}')\n",
        "    print(f'Recall Score:{round(recall,2)}')\n",
        "    print(f'F1 Score:{round(F1_Score,2)}')"
      ]
    },
    {
      "cell_type": "markdown",
      "id": "673d7217",
      "metadata": {
        "id": "673d7217"
      },
      "source": [
        "### 7. Single Neuron Logistic Regression Function with Stochatic Gradient Descent Applied Using Sigmoid Activation Function"
      ]
    },
    {
      "cell_type": "code",
      "execution_count": 14,
      "id": "prescription-namibia",
      "metadata": {
        "id": "prescription-namibia"
      },
      "outputs": [],
      "source": [
        "#Logistic Regression - Model Definition\n",
        "class logisticRegression:\n",
        "    def __init__(self,total_iterations,learning_rate):\n",
        "        self.learning_rate=learning_rate\n",
        "        self.total_iterations=total_iterations\n",
        "        self.bias=0.1\n",
        "\n",
        "\n",
        "    def train(self,input,Y): \n",
        "\n",
        "        rows,cols=input.shape\n",
        "        self.m=rows\n",
        "        self.w=np.zeros((cols,1))\n",
        "        costList=[]\n",
        "        iterationList=[]\n",
        "        for i in range(self.total_iterations+1):\n",
        "            # y= x * w + b\n",
        "            output=np.dot(input,self.w)+self.bias\n",
        "            \n",
        "            #Apply Sigmoid Activation function\n",
        "            Z = sigmoidFunction(output)\n",
        "\n",
        "            #calculating cost with Log Loss Method/CrossEntropy\n",
        "            cost = logLoss(self.m,Y,Z)\n",
        "            \n",
        "            if i%1000==0:\n",
        "                iterationList.append(i)\n",
        "                costList.append(cost)\n",
        "            \n",
        "            #Gradient Descent\n",
        "            dw=(1/self.m)*np.dot(input.T,np.subtract(Z,Y))\n",
        "            db=(1/self.m)*np.sum(np.subtract(Z,Y))\n",
        "            \n",
        "            #updating weights and bais (Learning Part)\n",
        "            self.w = self.w-self.learning_rate*dw\n",
        "            self.bias = self.bias - self.learning_rate*db\n",
        "        print(cost)\n",
        "        plt.plot(iterationList, costList)\n",
        "        plt.title(\"Cost Relation\")\n",
        "        plt.xlabel(\"Iterations\")\n",
        "        plt.ylabel(\"Cost\")\n",
        "        plt.show()\n",
        "        return \n",
        "\n",
        "    #Prediction function\n",
        "    def predict(self,input):\n",
        "        output=np.dot(input,self.w)+self.bias\n",
        "        Z=sigmoidFunction(output)\n",
        "        # if output more than 0.5 then yes else no. (Binary Classification)\n",
        "        prediction=[]\n",
        "        for i in Z:\n",
        "            if i>=0.5:\n",
        "                prediction.append(1)\n",
        "            else:\n",
        "                prediction.append(0)\n",
        "        return prediction\n"
      ]
    },
    {
      "cell_type": "markdown",
      "id": "b9922c07",
      "metadata": {
        "id": "b9922c07"
      },
      "source": [
        "##### 7.1. Fitting and Training the Model with Data"
      ]
    },
    {
      "cell_type": "code",
      "execution_count": 15,
      "id": "postal-spider",
      "metadata": {
        "id": "postal-spider"
      },
      "outputs": [],
      "source": [
        "model_wtSigmoid=logisticRegression(total_iterations=10000,learning_rate=0.001)"
      ]
    },
    {
      "cell_type": "code",
      "execution_count": 16,
      "id": "introductory-showcase",
      "metadata": {
        "colab": {
          "base_uri": "https://localhost:8080/",
          "height": 312
        },
        "id": "introductory-showcase",
        "outputId": "82b4ef86-86e7-41f5-fbda-743da6d14eae"
      },
      "outputs": [
        {
          "output_type": "stream",
          "name": "stdout",
          "text": [
            "0.510798119002777\n"
          ]
        },
        {
          "output_type": "display_data",
          "data": {
            "text/plain": [
              "<Figure size 432x288 with 1 Axes>"
            ],
            "image/png": "[encoded data removed]"
          },
          "metadata": {
            "needs_background": "light"
          }
        }
      ],
      "source": [
        "model_wtSigmoid.train(train_x,train_y)"
      ]
    },
    {
      "cell_type": "markdown",
      "id": "b6596b3c",
      "metadata": {
        "id": "b6596b3c"
      },
      "source": [
        "##### 7.2 Predicting from the trained model"
      ]
    },
    {
      "cell_type": "code",
      "execution_count": 17,
      "id": "accepting-canal",
      "metadata": {
        "id": "accepting-canal"
      },
      "outputs": [],
      "source": [
        "test_predictionSigmoid = model_wtSigmoid.predict(test_x)"
      ]
    },
    {
      "cell_type": "markdown",
      "id": "e44b512c",
      "metadata": {
        "id": "e44b512c"
      },
      "source": [
        "##### 7.3 Metrics"
      ]
    },
    {
      "cell_type": "code",
      "execution_count": 18,
      "id": "d5a9b5d1",
      "metadata": {
        "colab": {
          "base_uri": "https://localhost:8080/"
        },
        "id": "d5a9b5d1",
        "outputId": "177fdddc-7a3f-4b9f-d4af-aee216a733e7"
      },
      "outputs": [
        {
          "output_type": "stream",
          "name": "stdout",
          "text": [
            "Accuracy: 81.17%\n",
            "Precision:0.75\n",
            "Recall Score:0.71\n",
            "F1 Score:0.73\n"
          ]
        }
      ],
      "source": [
        "Metrics(test_y,test_predictionSigmoid)"
      ]
    },
    {
      "cell_type": "markdown",
      "id": "a30f689c",
      "metadata": {
        "id": "a30f689c"
      },
      "source": [
        "### 8. Single Neuron Logistic Regression Function with Stochatic Gradient Descent Applied Using Tanh Activation Function"
      ]
    },
    {
      "cell_type": "code",
      "execution_count": 19,
      "id": "b1cb3595",
      "metadata": {
        "id": "b1cb3595"
      },
      "outputs": [],
      "source": [
        "#Logistic Regression - Model Definition\n",
        "class logisticRegression:\n",
        "    def __init__(self,total_iterations,learning_rate):\n",
        "        self.learning_rate=learning_rate\n",
        "        self.total_iterations=total_iterations\n",
        "        self.bias=0.01\n",
        "\n",
        "\n",
        "    def train(self,input,Y): \n",
        "\n",
        "        rows,cols=input.shape\n",
        "        self.m=rows\n",
        "        self.w=np.zeros((cols,1))\n",
        "        costList=[]\n",
        "        iterationList=[]\n",
        "        for i in range(self.total_iterations+1):\n",
        "            # y= x * w + b\n",
        "            output=np.dot(input,self.w)+self.bias\n",
        "            \n",
        "            #Apply Sigmoid Activation function\n",
        "            Z = tanh(output)\n",
        "\n",
        "            #calculating cost with Log Loss Method/CrossEntropy\n",
        "            cost = logLoss(self.m,Y,Z)\n",
        "            \n",
        "            if i%1000==0:\n",
        "                iterationList.append(i)\n",
        "                costList.append(cost)\n",
        "            \n",
        "            #Gradient Descent\n",
        "            dw=(1/self.m)*np.dot(input.T,np.subtract(Z,Y))\n",
        "            db=(1/self.m)*np.sum(np.subtract(Z,Y))\n",
        "            \n",
        "            #updating weights and bais (Learning Part)\n",
        "            self.w = self.w-self.learning_rate*dw\n",
        "            self.bias = self.bias - self.learning_rate*db\n",
        "        print(cost)\n",
        "        plt.plot(iterationList, costList)\n",
        "        plt.title(\"Cost Relation\")\n",
        "        plt.xlabel(\"Iterations\")\n",
        "        plt.ylabel(\"Cost\")\n",
        "        plt.show()\n",
        "        return \n",
        "\n",
        "    #Prediction function\n",
        "    def predict(self,input):\n",
        "        output=np.dot(input,self.w)+self.bias\n",
        "        Z=tanh(output)\n",
        "        # if output more than 0.5 then yes else no. (Binary Classification)\n",
        "        prediction=[]\n",
        "        for i in Z:\n",
        "            if i>=0.5:\n",
        "                prediction.append(1)\n",
        "            else:\n",
        "                prediction.append(0)\n",
        "        return prediction"
      ]
    },
    {
      "cell_type": "markdown",
      "metadata": {
        "id": "Dk_v_iMxPRAj"
      },
      "source": [
        "##### 8.1. Fitting and Training the Model with Data"
      ],
      "id": "Dk_v_iMxPRAj"
    },
    {
      "cell_type": "code",
      "execution_count": 20,
      "metadata": {
        "id": "gv3GWcA9PRAj"
      },
      "outputs": [],
      "source": [
        "model_wtTanh=logisticRegression(total_iterations=10000,learning_rate=0.001)"
      ],
      "id": "gv3GWcA9PRAj"
    },
    {
      "cell_type": "code",
      "execution_count": 21,
      "metadata": {
        "colab": {
          "base_uri": "https://localhost:8080/",
          "height": 312
        },
        "id": "O7ROwmzaPRAk",
        "outputId": "913838f5-46c3-45ce-c9ee-272c6392de20"
      },
      "outputs": [
        {
          "output_type": "stream",
          "name": "stdout",
          "text": [
            "0.5237009632876124\n"
          ]
        },
        {
          "output_type": "display_data",
          "data": {
            "text/plain": [
              "<Figure size 432x288 with 1 Axes>"
            ],
            "image/png": "[encoded data removed]"
          },
          "metadata": {
            "needs_background": "light"
          }
        }
      ],
      "source": [
        "model_wtTanh.train(train_x,train_y)"
      ],
      "id": "O7ROwmzaPRAk"
    },
    {
      "cell_type": "markdown",
      "metadata": {
        "id": "0RXpXtXtPRAk"
      },
      "source": [
        "##### 8.2 Predicting from the trained model"
      ],
      "id": "0RXpXtXtPRAk"
    },
    {
      "cell_type": "code",
      "execution_count": 22,
      "metadata": {
        "id": "c8sw5fQUPRAk"
      },
      "outputs": [],
      "source": [
        "test_predictionTanh = model_wtTanh.predict(test_x)"
      ],
      "id": "c8sw5fQUPRAk"
    },
    {
      "cell_type": "markdown",
      "metadata": {
        "id": "V26n3-IVPRAk"
      },
      "source": [
        "##### 8.3 Metrics"
      ],
      "id": "V26n3-IVPRAk"
    },
    {
      "cell_type": "code",
      "execution_count": 23,
      "metadata": {
        "colab": {
          "base_uri": "https://localhost:8080/"
        },
        "id": "SSjrtTooPRAk",
        "outputId": "52b190d6-2ff0-4abf-ff97-f3c56e44a51c"
      },
      "outputs": [
        {
          "output_type": "stream",
          "name": "stdout",
          "text": [
            "Accuracy: 81.82%\n",
            "Precision:0.78\n",
            "Recall Score:0.69\n",
            "F1 Score:0.73\n"
          ]
        }
      ],
      "source": [
        "Metrics(test_y,test_predictionTanh)"
      ],
      "id": "SSjrtTooPRAk"
    }
  ],
  "metadata": {
    "kernelspec": {
      "display_name": "Python 3.9.12 ('base')",
      "language": "python",
      "name": "python3"
    },
    "language_info": {
      "codemirror_mode": {
        "name": "ipython",
        "version": 3
      },
      "file_extension": ".py",
      "mimetype": "text/x-python",
      "name": "python",
      "nbconvert_exporter": "python",
      "pygments_lexer": "ipython3",
      "version": "3.9.12"
    },
    "vscode": {
      "interpreter": {
        "hash": "ddcff88f20c5f9bf7718f446bdd3a77192143b2f59e73a09311788c03dde77eb"
      }
    },
    "colab": {
      "provenance": []
    }
  },
  "nbformat": 4,
  "nbformat_minor": 5
}