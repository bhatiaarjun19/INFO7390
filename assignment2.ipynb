{
  "cells": [
    {
      "cell_type": "markdown",
      "id": "69b125e3",
      "metadata": {
        "id": "69b125e3"
      },
      "source": [
        "Assignment 2\n"
      ]
    },
    {
      "cell_type": "code",
      "execution_count": 1,
      "id": "spoken-hybrid",
      "metadata": {
        "id": "spoken-hybrid"
      },
      "outputs": [],
      "source": [
        "import pandas as pd\n",
        "import numpy as np\n",
        "import matplotlib.pyplot as plt\n",
        "import scipy"
      ]
    },
    {
      "cell_type": "code",
      "execution_count": 2,
      "id": "dangerous-remedy",
      "metadata": {
        "id": "dangerous-remedy"
      },
      "outputs": [],
      "source": [
        "#Import dataset\n",
        "data= pd.read_csv(\"diabetes.csv\")"
      ]
    },
    {
      "cell_type": "code",
      "execution_count": 3,
      "id": "shared-harvest",
      "metadata": {
        "colab": {
          "base_uri": "https://localhost:8080/",
          "height": 206
        },
        "id": "shared-harvest",
        "outputId": "598eee07-c35a-4fe6-e374-82037b6e7fdd"
      },
      "outputs": [
        {
          "output_type": "execute_result",
          "data": {
            "text/plain": [
              "   Pregnancies  Glucose  BloodPressure  SkinThickness  Insulin   BMI  \\\n",
              "0            6      148             72             35        0  33.6   \n",
              "1            1       85             66             29        0  26.6   \n",
              "2            8      183             64              0        0  23.3   \n",
              "3            1       89             66             23       94  28.1   \n",
              "4            0      137             40             35      168  43.1   \n",
              "\n",
              "   DiabetesPedigreeFunction  Age  Outcome  \n",
              "0                     0.627   50        1  \n",
              "1                     0.351   31        0  \n",
              "2                     0.672   32        1  \n",
              "3                     0.167   21        0  \n",
              "4                     2.288   33        1  "
            ],
            "text/html": [
              "\n",
              "  <div id=\"df-88dafd96-a6bd-43f2-a8e7-c84b62df6552\">\n",
              "    <div class=\"colab-df-container\">\n",
              "      <div>\n",
              "<style scoped>\n",
              "    .dataframe tbody tr th:only-of-type {\n",
              "        vertical-align: middle;\n",
              "    }\n",
              "\n",
              "    .dataframe tbody tr th {\n",
              "        vertical-align: top;\n",
              "    }\n",
              "\n",
              "    .dataframe thead th {\n",
              "        text-align: right;\n",
              "    }\n",
              "</style>\n",
              "<table border=\"1\" class=\"dataframe\">\n",
              "  <thead>\n",
              "    <tr style=\"text-align: right;\">\n",
              "      <th></th>\n",
              "      <th>Pregnancies</th>\n",
              "      <th>Glucose</th>\n",
              "      <th>BloodPressure</th>\n",
              "      <th>SkinThickness</th>\n",
              "      <th>Insulin</th>\n",
              "      <th>BMI</th>\n",
              "      <th>DiabetesPedigreeFunction</th>\n",
              "      <th>Age</th>\n",
              "      <th>Outcome</th>\n",
              "    </tr>\n",
              "  </thead>\n",
              "  <tbody>\n",
              "    <tr>\n",
              "      <th>0</th>\n",
              "      <td>6</td>\n",
              "      <td>148</td>\n",
              "      <td>72</td>\n",
              "      <td>35</td>\n",
              "      <td>0</td>\n",
              "      <td>33.6</td>\n",
              "      <td>0.627</td>\n",
              "      <td>50</td>\n",
              "      <td>1</td>\n",
              "    </tr>\n",
              "    <tr>\n",
              "      <th>1</th>\n",
              "      <td>1</td>\n",
              "      <td>85</td>\n",
              "      <td>66</td>\n",
              "      <td>29</td>\n",
              "      <td>0</td>\n",
              "      <td>26.6</td>\n",
              "      <td>0.351</td>\n",
              "      <td>31</td>\n",
              "      <td>0</td>\n",
              "    </tr>\n",
              "    <tr>\n",
              "      <th>2</th>\n",
              "      <td>8</td>\n",
              "      <td>183</td>\n",
              "      <td>64</td>\n",
              "      <td>0</td>\n",
              "      <td>0</td>\n",
              "      <td>23.3</td>\n",
              "      <td>0.672</td>\n",
              "      <td>32</td>\n",
              "      <td>1</td>\n",
              "    </tr>\n",
              "    <tr>\n",
              "      <th>3</th>\n",
              "      <td>1</td>\n",
              "      <td>89</td>\n",
              "      <td>66</td>\n",
              "      <td>23</td>\n",
              "      <td>94</td>\n",
              "      <td>28.1</td>\n",
              "      <td>0.167</td>\n",
              "      <td>21</td>\n",
              "      <td>0</td>\n",
              "    </tr>\n",
              "    <tr>\n",
              "      <th>4</th>\n",
              "      <td>0</td>\n",
              "      <td>137</td>\n",
              "      <td>40</td>\n",
              "      <td>35</td>\n",
              "      <td>168</td>\n",
              "      <td>43.1</td>\n",
              "      <td>2.288</td>\n",
              "      <td>33</td>\n",
              "      <td>1</td>\n",
              "    </tr>\n",
              "  </tbody>\n",
              "</table>\n",
              "</div>\n",
              "      <button class=\"colab-df-convert\" onclick=\"convertToInteractive('df-88dafd96-a6bd-43f2-a8e7-c84b62df6552')\"\n",
              "              title=\"Convert this dataframe to an interactive table.\"\n",
              "              style=\"display:none;\">\n",
              "        \n",
              "  <svg xmlns=\"http://www.w3.org/2000/svg\" height=\"24px\"viewBox=\"0 0 24 24\"\n",
              "       width=\"24px\">\n",
              "    <path d=\"M0 0h24v24H0V0z\" fill=\"none\"/>\n",
              "    <path d=\"M18.56 5.44l.94 2.06.94-2.06 2.06-.94-2.06-.94-.94-2.06-.94 2.06-2.06.94zm-11 1L8.5 8.5l.94-2.06 2.06-.94-2.06-.94L8.5 2.5l-.94 2.06-2.06.94zm10 10l.94 2.06.94-2.06 2.06-.94-2.06-.94-.94-2.06-.94 2.06-2.06.94z\"/><path d=\"M17.41 7.96l-1.37-1.37c-.4-.4-.92-.59-1.43-.59-.52 0-1.04.2-1.43.59L10.3 9.45l-7.72 7.72c-.78.78-.78 2.05 0 2.83L4 21.41c.39.39.9.59 1.41.59.51 0 1.02-.2 1.41-.59l7.78-7.78 2.81-2.81c.8-.78.8-2.07 0-2.86zM5.41 20L4 18.59l7.72-7.72 1.47 1.35L5.41 20z\"/>\n",
              "  </svg>\n",
              "      </button>\n",
              "      \n",
              "  <style>\n",
              "    .colab-df-container {\n",
              "      display:flex;\n",
              "      flex-wrap:wrap;\n",
              "      gap: 12px;\n",
              "    }\n",
              "\n",
              "    .colab-df-convert {\n",
              "      background-color: #E8F0FE;\n",
              "      border: none;\n",
              "      border-radius: 50%;\n",
              "      cursor: pointer;\n",
              "      display: none;\n",
              "      fill: #1967D2;\n",
              "      height: 32px;\n",
              "      padding: 0 0 0 0;\n",
              "      width: 32px;\n",
              "    }\n",
              "\n",
              "    .colab-df-convert:hover {\n",
              "      background-color: #E2EBFA;\n",
              "      box-shadow: 0px 1px 2px rgba(60, 64, 67, 0.3), 0px 1px 3px 1px rgba(60, 64, 67, 0.15);\n",
              "      fill: #174EA6;\n",
              "    }\n",
              "\n",
              "    [theme=dark] .colab-df-convert {\n",
              "      background-color: #3B4455;\n",
              "      fill: #D2E3FC;\n",
              "    }\n",
              "\n",
              "    [theme=dark] .colab-df-convert:hover {\n",
              "      background-color: #434B5C;\n",
              "      box-shadow: 0px 1px 3px 1px rgba(0, 0, 0, 0.15);\n",
              "      filter: drop-shadow(0px 1px 2px rgba(0, 0, 0, 0.3));\n",
              "      fill: #FFFFFF;\n",
              "    }\n",
              "  </style>\n",
              "\n",
              "      <script>\n",
              "        const buttonEl =\n",
              "          document.querySelector('#df-88dafd96-a6bd-43f2-a8e7-c84b62df6552 button.colab-df-convert');\n",
              "        buttonEl.style.display =\n",
              "          google.colab.kernel.accessAllowed ? 'block' : 'none';\n",
              "\n",
              "        async function convertToInteractive(key) {\n",
              "          const element = document.querySelector('#df-88dafd96-a6bd-43f2-a8e7-c84b62df6552');\n",
              "          const dataTable =\n",
              "            await google.colab.kernel.invokeFunction('convertToInteractive',\n",
              "                                                     [key], {});\n",
              "          if (!dataTable) return;\n",
              "\n",
              "          const docLinkHtml = 'Like what you see? Visit the ' +\n",
              "            '<a target=\"_blank\" href=https://colab.research.google.com/notebooks/data_table.ipynb>data table notebook</a>'\n",
              "            + ' to learn more about interactive tables.';\n",
              "          element.innerHTML = '';\n",
              "          dataTable['output_type'] = 'display_data';\n",
              "          await google.colab.output.renderOutput(dataTable, element);\n",
              "          const docLink = document.createElement('div');\n",
              "          docLink.innerHTML = docLinkHtml;\n",
              "          element.appendChild(docLink);\n",
              "        }\n",
              "      </script>\n",
              "    </div>\n",
              "  </div>\n",
              "  "
            ]
          },
          "metadata": {},
          "execution_count": 3
        }
      ],
      "source": [
        "data.head(5)"
      ]
    },
    {
      "cell_type": "code",
      "execution_count": null,
      "id": "concerned-faith",
      "metadata": {
        "id": "concerned-faith"
      },
      "outputs": [],
      "source": [
        "# Pre-processing block"
      ]
    },
    {
      "cell_type": "code",
      "execution_count": 4,
      "id": "communist-expert",
      "metadata": {
        "id": "communist-expert"
      },
      "outputs": [],
      "source": [
        "#Train, test and validation spilt\n",
        "from sklearn.model_selection import train_test_split\n",
        "\n",
        "data_set_values=np.array(data)\n",
        "number_of_rows,number_of_cols=data.shape\n",
        "train, test = train_test_split(data_set_values, test_size = 0.4,random_state=57)\n",
        "test, validate = train_test_split(test, test_size = 0.5,random_state=3)"
      ]
    },
    {
      "cell_type": "code",
      "execution_count": 5,
      "id": "metallic-poison",
      "metadata": {
        "id": "metallic-poison"
      },
      "outputs": [],
      "source": [
        "#Spilt all sets into input and output sets\n",
        "train_x=train[:,:number_of_cols-1]\n",
        "train_y=train[:,[number_of_cols-1]]\n",
        "\n",
        "test_x=test[:,:number_of_cols-1]\n",
        "test_y=test[:,[number_of_cols-1]]\n",
        "\n",
        "validate_x=validate[:,:number_of_cols-1]\n",
        "validate_y=validate[:,[number_of_cols-1]]\n",
        "\n",
        "#perform normalization on the input data set\n",
        "input_data= np.vstack((train_x,test_x,validate_x))\n",
        "mean_data = np.mean(input_data, axis=0)\n",
        "std_data = np.std(input_data, axis=0)\n",
        "train_x = (train_x - mean_data)/std_data\n",
        "test_x = (test_x - mean_data)/std_data\n",
        "validate_x = (validate_x - mean_data)/std_data"
      ]
    },
    {
      "cell_type": "code",
      "execution_count": null,
      "id": "macro-assets",
      "metadata": {
        "id": "macro-assets"
      },
      "outputs": [],
      "source": [
        "#End of Pre-processing block"
      ]
    },
    {
      "cell_type": "code",
      "execution_count": null,
      "id": "entitled-concert",
      "metadata": {
        "id": "entitled-concert"
      },
      "outputs": [],
      "source": [
        "#Start of Logistic Regression - Part 1"
      ]
    },
    {
      "cell_type": "code",
      "execution_count": 20,
      "id": "prescription-namibia",
      "metadata": {
        "id": "prescription-namibia"
      },
      "outputs": [],
      "source": [
        "#Logistic Regression - Model Definition\n",
        "class logisticRegression:\n",
        "    def __init__(self,total_iterations,learning_rate):\n",
        "        self.learning_rate=learning_rate\n",
        "        self.total_iterations=total_iterations\n",
        "        self.bias=0\n",
        "        \n",
        "    #Activation function\n",
        "    def sigmoidFunction(self,X): \n",
        "        return 1/(1+np.exp(-X))\n",
        "#         return 1/(1+scipy.special.expit(-X))\n",
        "    def relufunction(self,X):\n",
        "        Z=np.max(0,X)\n",
        "        assert(X.shape == Z.shape)\n",
        "        return Z\n",
        "\n",
        "    #Training function\n",
        "    def train(self,input,Y): \n",
        "\n",
        "        rows,cols=input.shape\n",
        "        self.m=rows\n",
        "        self.w=np.zeros((cols,1))\n",
        "        costList=[]\n",
        "        iterationList=[]\n",
        "        for _ in range(self.total_iterations+1):\n",
        "            # y= x * w + b\n",
        "            output=np.dot(input,self.w)+self.bias\n",
        "            \n",
        "            #apply Activating function\n",
        "            Z=self.sigmoidFunction(output)\n",
        "            #calculating cost\n",
        "            cost=(-1/self.m)*np.sum((Y*np.log(Z))+(1-Y)*np.log(1-Z))\n",
        "            \n",
        "            if _%1000==0:\n",
        "#                 print(\"loss during \",_,\" iteration =\",cost)\n",
        "                iterationList.append(_)\n",
        "                costList.append(cost)\n",
        "            \n",
        "            #Gradient Descent\n",
        "            dw=(1/self.m)*np.dot(input.T,np.subtract(Z,Y))\n",
        "            db=(1/self.m)*np.sum(np.subtract(Z,Y))\n",
        "            \n",
        "            #updating weights and bais (Learning Part)\n",
        "            self.w = self.w-self.learning_rate*dw\n",
        "            self.bias = self.bias - self.learning_rate*db\n",
        "        print(cost)\n",
        "        plt.plot(iterationList, costList)\n",
        "        plt.title(\"Cost Relation\")\n",
        "        plt.xlabel(\"Iterations\")\n",
        "        plt.ylabel(\"Cost\")\n",
        "        plt.show()\n",
        "        return \n",
        "\n",
        "    #Prediction function\n",
        "    def predict(self,input):\n",
        "        output=np.dot(input,self.w)+self.bias\n",
        "        Z=self.sigmoidFunction(output)\n",
        "        # if output more than 0.5 then yes else no. (Binary Classification)\n",
        "        prediction=[]\n",
        "        for i in Z:\n",
        "            if i>=0.5:\n",
        "                prediction.append(1)\n",
        "            else:\n",
        "                prediction.append(0)\n",
        "        return prediction"
      ]
    },
    {
      "cell_type": "code",
      "execution_count": 21,
      "id": "postal-spider",
      "metadata": {
        "id": "postal-spider"
      },
      "outputs": [],
      "source": [
        "model=logisticRegression(total_iterations=10000,learning_rate=0.001)"
      ]
    },
    {
      "cell_type": "code",
      "execution_count": 22,
      "id": "introductory-showcase",
      "metadata": {
        "colab": {
          "base_uri": "https://localhost:8080/",
          "height": 312
        },
        "id": "introductory-showcase",
        "outputId": "3bbaaa1e-824a-486e-c0e4-7d57c223775f"
      },
      "outputs": [
        {
          "output_type": "stream",
          "name": "stdout",
          "text": [
            "0.5104049375439529\n"
          ]
        },
        {
          "output_type": "display_data",
          "data": {
            "text/plain": [
              "<Figure size 432x288 with 1 Axes>"
            ],
            "image/png": "[encoded data removed]"
          },
          "metadata": {
            "needs_background": "light"
          }
        }
      ],
      "source": [
        "model.train(train_x,train_y)"
      ]
    },
    {
      "cell_type": "code",
      "execution_count": null,
      "id": "accepting-canal",
      "metadata": {
        "id": "accepting-canal"
      },
      "outputs": [],
      "source": [
        "from sklearn.metrics import accuracy_score\n",
        "test_prediction = model.predict(test_x)"
      ]
    },
    {
      "cell_type": "code",
      "execution_count": null,
      "id": "immediate-republican",
      "metadata": {
        "id": "immediate-republican",
        "outputId": "82af59d8-29fd-4dc1-a0cf-c1fb6fb461d3"
      },
      "outputs": [
        {
          "name": "stdout",
          "output_type": "stream",
          "text": [
            "Accuracy =  0.8116883116883117\n"
          ]
        }
      ],
      "source": [
        "print(\"Accuracy = \", accuracy_score(test_y,test_prediction))"
      ]
    },
    {
      "cell_type": "code",
      "execution_count": null,
      "id": "17f841b4",
      "metadata": {
        "id": "17f841b4"
      },
      "outputs": [],
      "source": [
        "#Calculating Metrics\n",
        "class Metrics:\n",
        "\n",
        "   def __init__(self,TP,FP,TN,FN):\n",
        "      self.TP = TP\n",
        "      self.FP = FP\n",
        "      self.TN = TN\n",
        "      self.FN = FN\n",
        "\n",
        "   def PrecisionScore(TP)      \n",
        "\n",
        "\n",
        "\n"
      ]
    },
    {
      "cell_type": "code",
      "execution_count": null,
      "id": "cc680ccf",
      "metadata": {
        "id": "cc680ccf"
      },
      "outputs": [],
      "source": [
        "def perf_measure(y_actual, y_hat):\n",
        "   TP = 0\n",
        "   FP = 0\n",
        "   TN = 0\n",
        "   FN = 0\n",
        "\n",
        "   for i in range(len(y_hat)): \n",
        "      if y_actual[i]==y_hat[i]==1:\n",
        "         TP += 1\n",
        "      if y_hat[i]==1 and y_actual[i]!=y_hat[i]:\n",
        "         FP += 1\n",
        "      if y_actual[i]==y_hat[i]==0:\n",
        "         TN += 1\n",
        "      if y_hat[i]==0 and y_actual[i]!=y_hat[i]:\n",
        "         FN += 1\n",
        "\n",
        "   return(TP, FP, TN, FN)\n",
        "#Precision Score = TP / (FP + TP)\n",
        "def PrecisionScore(TP,FP,TN,FN):\n"
      ]
    },
    {
      "cell_type": "code",
      "execution_count": null,
      "id": "bbe248b0",
      "metadata": {
        "id": "bbe248b0"
      },
      "outputs": [],
      "source": [
        "TP,FP,TN,FN = perf_measure(test_y,test_prediction)"
      ]
    },
    {
      "cell_type": "code",
      "execution_count": null,
      "id": "25646796",
      "metadata": {
        "id": "25646796",
        "outputId": "abeee043-fe20-4930-81a0-c05322de1449"
      },
      "outputs": [
        {
          "name": "stdout",
          "output_type": "stream",
          "text": [
            "(39, 13, 86, 16)\n"
          ]
        }
      ],
      "source": []
    },
    {
      "cell_type": "code",
      "execution_count": null,
      "id": "8464a81a",
      "metadata": {
        "id": "8464a81a"
      },
      "outputs": [],
      "source": []
    }
  ],
  "metadata": {
    "kernelspec": {
      "display_name": "Python 3.9.12 ('base')",
      "language": "python",
      "name": "python3"
    },
    "language_info": {
      "codemirror_mode": {
        "name": "ipython",
        "version": 3
      },
      "file_extension": ".py",
      "mimetype": "text/x-python",
      "name": "python",
      "nbconvert_exporter": "python",
      "pygments_lexer": "ipython3",
      "version": "3.9.12"
    },
    "vscode": {
      "interpreter": {
        "hash": "ddcff88f20c5f9bf7718f446bdd3a77192143b2f59e73a09311788c03dde77eb"
      }
    },
    "colab": {
      "provenance": []
    }
  },
  "nbformat": 4,
  "nbformat_minor": 5
}